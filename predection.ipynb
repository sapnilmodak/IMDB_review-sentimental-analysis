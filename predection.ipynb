{
 "cells": [
  {
   "cell_type": "code",
   "execution_count": 1,
   "metadata": {},
   "outputs": [],
   "source": [
    "# Step 1: Import Libraries and Load the Model\n",
    "import numpy as np\n",
    "import tensorflow as tf\n",
    "from tensorflow.keras.datasets import imdb\n",
    "from tensorflow.keras.preprocessing import sequence\n",
    "from tensorflow.keras.models import load_model"
   ]
  },
  {
   "cell_type": "code",
   "execution_count": 2,
   "metadata": {},
   "outputs": [],
   "source": [
    "\n",
    "# Load the IMDB dataset word index\n",
    "word_index = imdb.get_word_index()\n",
    "reverse_word_index = {value: key for key, value in word_index.items()}"
   ]
  },
  {
   "cell_type": "code",
   "execution_count": 3,
   "metadata": {},
   "outputs": [
    {
     "name": "stderr",
     "output_type": "stream",
     "text": [
      "WARNING:absl:Compiled the loaded model, but the compiled metrics have yet to be built. `model.compile_metrics` will be empty until you train or evaluate the model.\n"
     ]
    },
    {
     "data": {
      "text/html": [
       "<pre style=\"white-space:pre;overflow-x:auto;line-height:normal;font-family:Menlo,'DejaVu Sans Mono',consolas,'Courier New',monospace\"><span style=\"font-weight: bold\">Model: \"sequential\"</span>\n",
       "</pre>\n"
      ],
      "text/plain": [
       "\u001b[1mModel: \"sequential\"\u001b[0m\n"
      ]
     },
     "metadata": {},
     "output_type": "display_data"
    },
    {
     "data": {
      "text/html": [
       "<pre style=\"white-space:pre;overflow-x:auto;line-height:normal;font-family:Menlo,'DejaVu Sans Mono',consolas,'Courier New',monospace\">┏━━━━━━━━━━━━━━━━━━━━━━━━━━━━━━━━━┳━━━━━━━━━━━━━━━━━━━━━━━━┳━━━━━━━━━━━━━━━┓\n",
       "┃<span style=\"font-weight: bold\"> Layer (type)                    </span>┃<span style=\"font-weight: bold\"> Output Shape           </span>┃<span style=\"font-weight: bold\">       Param # </span>┃\n",
       "┡━━━━━━━━━━━━━━━━━━━━━━━━━━━━━━━━━╇━━━━━━━━━━━━━━━━━━━━━━━━╇━━━━━━━━━━━━━━━┩\n",
       "│ embedding (<span style=\"color: #0087ff; text-decoration-color: #0087ff\">Embedding</span>)           │ (<span style=\"color: #00af00; text-decoration-color: #00af00\">32</span>, <span style=\"color: #00af00; text-decoration-color: #00af00\">500</span>, <span style=\"color: #00af00; text-decoration-color: #00af00\">128</span>)         │     <span style=\"color: #00af00; text-decoration-color: #00af00\">1,280,000</span> │\n",
       "├─────────────────────────────────┼────────────────────────┼───────────────┤\n",
       "│ simple_rnn (<span style=\"color: #0087ff; text-decoration-color: #0087ff\">SimpleRNN</span>)          │ (<span style=\"color: #00af00; text-decoration-color: #00af00\">32</span>, <span style=\"color: #00af00; text-decoration-color: #00af00\">128</span>)              │        <span style=\"color: #00af00; text-decoration-color: #00af00\">32,896</span> │\n",
       "├─────────────────────────────────┼────────────────────────┼───────────────┤\n",
       "│ dense (<span style=\"color: #0087ff; text-decoration-color: #0087ff\">Dense</span>)                   │ (<span style=\"color: #00af00; text-decoration-color: #00af00\">32</span>, <span style=\"color: #00af00; text-decoration-color: #00af00\">1</span>)                │           <span style=\"color: #00af00; text-decoration-color: #00af00\">129</span> │\n",
       "└─────────────────────────────────┴────────────────────────┴───────────────┘\n",
       "</pre>\n"
      ],
      "text/plain": [
       "┏━━━━━━━━━━━━━━━━━━━━━━━━━━━━━━━━━┳━━━━━━━━━━━━━━━━━━━━━━━━┳━━━━━━━━━━━━━━━┓\n",
       "┃\u001b[1m \u001b[0m\u001b[1mLayer (type)                   \u001b[0m\u001b[1m \u001b[0m┃\u001b[1m \u001b[0m\u001b[1mOutput Shape          \u001b[0m\u001b[1m \u001b[0m┃\u001b[1m \u001b[0m\u001b[1m      Param #\u001b[0m\u001b[1m \u001b[0m┃\n",
       "┡━━━━━━━━━━━━━━━━━━━━━━━━━━━━━━━━━╇━━━━━━━━━━━━━━━━━━━━━━━━╇━━━━━━━━━━━━━━━┩\n",
       "│ embedding (\u001b[38;5;33mEmbedding\u001b[0m)           │ (\u001b[38;5;34m32\u001b[0m, \u001b[38;5;34m500\u001b[0m, \u001b[38;5;34m128\u001b[0m)         │     \u001b[38;5;34m1,280,000\u001b[0m │\n",
       "├─────────────────────────────────┼────────────────────────┼───────────────┤\n",
       "│ simple_rnn (\u001b[38;5;33mSimpleRNN\u001b[0m)          │ (\u001b[38;5;34m32\u001b[0m, \u001b[38;5;34m128\u001b[0m)              │        \u001b[38;5;34m32,896\u001b[0m │\n",
       "├─────────────────────────────────┼────────────────────────┼───────────────┤\n",
       "│ dense (\u001b[38;5;33mDense\u001b[0m)                   │ (\u001b[38;5;34m32\u001b[0m, \u001b[38;5;34m1\u001b[0m)                │           \u001b[38;5;34m129\u001b[0m │\n",
       "└─────────────────────────────────┴────────────────────────┴───────────────┘\n"
      ]
     },
     "metadata": {},
     "output_type": "display_data"
    },
    {
     "data": {
      "text/html": [
       "<pre style=\"white-space:pre;overflow-x:auto;line-height:normal;font-family:Menlo,'DejaVu Sans Mono',consolas,'Courier New',monospace\"><span style=\"font-weight: bold\"> Total params: </span><span style=\"color: #00af00; text-decoration-color: #00af00\">1,313,027</span> (5.01 MB)\n",
       "</pre>\n"
      ],
      "text/plain": [
       "\u001b[1m Total params: \u001b[0m\u001b[38;5;34m1,313,027\u001b[0m (5.01 MB)\n"
      ]
     },
     "metadata": {},
     "output_type": "display_data"
    },
    {
     "data": {
      "text/html": [
       "<pre style=\"white-space:pre;overflow-x:auto;line-height:normal;font-family:Menlo,'DejaVu Sans Mono',consolas,'Courier New',monospace\"><span style=\"font-weight: bold\"> Trainable params: </span><span style=\"color: #00af00; text-decoration-color: #00af00\">1,313,025</span> (5.01 MB)\n",
       "</pre>\n"
      ],
      "text/plain": [
       "\u001b[1m Trainable params: \u001b[0m\u001b[38;5;34m1,313,025\u001b[0m (5.01 MB)\n"
      ]
     },
     "metadata": {},
     "output_type": "display_data"
    },
    {
     "data": {
      "text/html": [
       "<pre style=\"white-space:pre;overflow-x:auto;line-height:normal;font-family:Menlo,'DejaVu Sans Mono',consolas,'Courier New',monospace\"><span style=\"font-weight: bold\"> Non-trainable params: </span><span style=\"color: #00af00; text-decoration-color: #00af00\">0</span> (0.00 B)\n",
       "</pre>\n"
      ],
      "text/plain": [
       "\u001b[1m Non-trainable params: \u001b[0m\u001b[38;5;34m0\u001b[0m (0.00 B)\n"
      ]
     },
     "metadata": {},
     "output_type": "display_data"
    },
    {
     "data": {
      "text/html": [
       "<pre style=\"white-space:pre;overflow-x:auto;line-height:normal;font-family:Menlo,'DejaVu Sans Mono',consolas,'Courier New',monospace\"><span style=\"font-weight: bold\"> Optimizer params: </span><span style=\"color: #00af00; text-decoration-color: #00af00\">2</span> (12.00 B)\n",
       "</pre>\n"
      ],
      "text/plain": [
       "\u001b[1m Optimizer params: \u001b[0m\u001b[38;5;34m2\u001b[0m (12.00 B)\n"
      ]
     },
     "metadata": {},
     "output_type": "display_data"
    }
   ],
   "source": [
    "# Load the pre-trained model with ReLU activation\n",
    "model = load_model('simple_rnn_imdb.h5')\n",
    "model.summary()"
   ]
  },
  {
   "cell_type": "code",
   "execution_count": 4,
   "metadata": {},
   "outputs": [
    {
     "data": {
      "text/plain": [
       "[array([[ 0.5943541 ,  0.1551736 ,  0.20201409, ..., -0.30474553,\n",
       "          0.16152501, -0.15339625],\n",
       "        [ 0.09355664, -0.05161742,  0.04566348, ..., -0.08704164,\n",
       "          0.08578666,  0.05961878],\n",
       "        [-0.00489722, -0.01626197, -0.01546961, ...,  0.07332047,\n",
       "         -0.01089304, -0.02251765],\n",
       "        ...,\n",
       "        [ 0.03782053, -0.08878382,  0.00988498, ..., -0.00211989,\n",
       "          0.11034485,  0.08259698],\n",
       "        [-0.05947382,  0.10123038, -0.02618654, ..., -0.0841405 ,\n",
       "         -0.05953687, -0.01458802],\n",
       "        [-0.02912844, -0.03253853, -0.00288633, ..., -0.01051421,\n",
       "          0.07795232,  0.07149544]], dtype=float32),\n",
       " array([[-0.13432556,  0.11389893, -0.08334564, ...,  0.0720595 ,\n",
       "         -0.0461909 , -0.06842346],\n",
       "        [-0.02893392,  0.08431475,  0.13896462, ..., -0.11473298,\n",
       "         -0.09022644, -0.01807012],\n",
       "        [-0.07846957, -0.06832874, -0.01571847, ...,  0.0445102 ,\n",
       "         -0.12053517,  0.03789075],\n",
       "        ...,\n",
       "        [ 0.06592101,  0.06838682,  0.05114413, ...,  0.07527767,\n",
       "         -0.07972261, -0.08323012],\n",
       "        [-0.14486541, -0.04308788,  0.10543503, ...,  0.08463369,\n",
       "          0.18173486,  0.04011004],\n",
       "        [-0.00402024, -0.06934761,  0.06052263, ..., -0.02323763,\n",
       "          0.10905625,  0.04504544]], dtype=float32),\n",
       " array([[ 0.2532185 ,  0.05863637, -0.1474841 , ...,  0.10044222,\n",
       "          0.01208501,  0.04114522],\n",
       "        [ 0.11317666,  0.12387569, -0.04626251, ...,  0.0942717 ,\n",
       "         -0.02989993,  0.10570741],\n",
       "        [-0.14632566, -0.15815926, -0.2117232 , ...,  0.01324257,\n",
       "          0.02705167,  0.01522241],\n",
       "        ...,\n",
       "        [ 0.04994395, -0.0388937 ,  0.0533156 , ..., -0.00028525,\n",
       "         -0.01977178, -0.08214355],\n",
       "        [-0.08371481,  0.03343884,  0.02895285, ..., -0.15016866,\n",
       "          0.05414697,  0.24399583],\n",
       "        [ 0.00430123,  0.05431549,  0.02143265, ..., -0.11916712,\n",
       "          0.14109813,  0.02528641]], dtype=float32),\n",
       " array([ 0.02543185, -0.04336671, -0.02558967, -0.02968286, -0.02483917,\n",
       "        -0.03568598,  0.01562442, -0.02873497, -0.03167842, -0.03644666,\n",
       "         0.05250388,  0.00381603, -0.00476952, -0.00265506, -0.03304548,\n",
       "        -0.02236133, -0.03341933, -0.02145367, -0.04009293, -0.04781879,\n",
       "         0.00814547,  0.03531215, -0.03809395,  0.00456799, -0.03383299,\n",
       "        -0.02274857, -0.03604572, -0.01200099,  0.02275637, -0.04112785,\n",
       "        -0.050871  ,  0.04380013, -0.02609188, -0.05505565, -0.04691865,\n",
       "        -0.01507625, -0.02366623, -0.03802738, -0.04118625,  0.0288933 ,\n",
       "         0.02556086, -0.01627682,  0.0359621 , -0.01230078,  0.06508952,\n",
       "        -0.00795608,  0.01093609, -0.03089151, -0.03281784, -0.03349628,\n",
       "        -0.01844833, -0.01003516,  0.0033507 ,  0.01514442,  0.01863844,\n",
       "        -0.03358256, -0.00649775, -0.01937292, -0.03310403, -0.02371539,\n",
       "        -0.00555929,  0.00030919, -0.01004747, -0.01277463, -0.03429031,\n",
       "        -0.03022508,  0.00374767, -0.02474548, -0.04380329,  0.01463111,\n",
       "         0.01315983,  0.01674933,  0.03380662, -0.03565646,  0.00456123,\n",
       "         0.03002631,  0.00734128,  0.00831981, -0.02562703,  0.03478327,\n",
       "        -0.01504419, -0.01267157,  0.00936531,  0.02932339, -0.03760545,\n",
       "        -0.02850602, -0.03652728, -0.02238833, -0.04301174,  0.03643222,\n",
       "         0.01107246, -0.03528458,  0.01138989, -0.01971456, -0.03033787,\n",
       "         0.00813622, -0.03500808, -0.01585472,  0.00783742, -0.04098736,\n",
       "         0.01059844, -0.03100785,  0.03394261,  0.00503817, -0.03703085,\n",
       "        -0.00502818, -0.04209887,  0.01058621, -0.0023087 , -0.03651953,\n",
       "        -0.01974599, -0.00614792, -0.01117209, -0.0465247 ,  0.0071111 ,\n",
       "        -0.00071233, -0.0037289 , -0.02271536, -0.01753699, -0.02866705,\n",
       "         0.02315368, -0.00209705,  0.03184908,  0.02927991,  0.00536088,\n",
       "         0.005565  , -0.00287508,  0.02538989], dtype=float32),\n",
       " array([[-0.03869317],\n",
       "        [ 0.11412511],\n",
       "        [ 0.10313079],\n",
       "        [-0.0382263 ],\n",
       "        [-0.04887492],\n",
       "        [ 0.05358813],\n",
       "        [-0.17871639],\n",
       "        [ 0.06226007],\n",
       "        [ 0.02823293],\n",
       "        [ 0.07969139],\n",
       "        [ 0.20050135],\n",
       "        [ 0.21844687],\n",
       "        [-0.00815006],\n",
       "        [ 0.1704584 ],\n",
       "        [ 0.07880417],\n",
       "        [-0.19897562],\n",
       "        [ 0.04073372],\n",
       "        [ 0.0792297 ],\n",
       "        [-0.38815564],\n",
       "        [ 0.06340242],\n",
       "        [-0.00673911],\n",
       "        [ 0.18163855],\n",
       "        [ 0.12266024],\n",
       "        [-0.18857487],\n",
       "        [-0.14659336],\n",
       "        [ 0.11914714],\n",
       "        [ 0.18511271],\n",
       "        [-0.13337028],\n",
       "        [-0.00095987],\n",
       "        [ 0.18103887],\n",
       "        [-0.4053677 ],\n",
       "        [ 0.03849806],\n",
       "        [ 0.20887856],\n",
       "        [-0.0403555 ],\n",
       "        [-0.07662205],\n",
       "        [ 0.02244196],\n",
       "        [-0.31919703],\n",
       "        [ 0.19491902],\n",
       "        [ 0.0155208 ],\n",
       "        [ 0.12476053],\n",
       "        [ 0.22134964],\n",
       "        [-0.07633728],\n",
       "        [-0.22062467],\n",
       "        [ 0.15936111],\n",
       "        [ 0.13454042],\n",
       "        [-0.16860493],\n",
       "        [ 0.00745885],\n",
       "        [-0.05739883],\n",
       "        [-0.02545081],\n",
       "        [ 0.04264059],\n",
       "        [-0.6507866 ],\n",
       "        [-0.09770703],\n",
       "        [-0.0548411 ],\n",
       "        [-0.123504  ],\n",
       "        [-0.01909658],\n",
       "        [ 0.06689651],\n",
       "        [ 0.13888724],\n",
       "        [-0.7265073 ],\n",
       "        [-0.14846326],\n",
       "        [-0.14917052],\n",
       "        [ 0.13037412],\n",
       "        [-0.20980035],\n",
       "        [ 0.06722544],\n",
       "        [ 0.36410514],\n",
       "        [ 0.05455367],\n",
       "        [ 0.24752824],\n",
       "        [-0.19681661],\n",
       "        [ 0.06741226],\n",
       "        [ 0.19933161],\n",
       "        [-0.14921226],\n",
       "        [-0.10076399],\n",
       "        [ 0.19993268],\n",
       "        [-0.16261534],\n",
       "        [ 0.18230037],\n",
       "        [ 0.23001508],\n",
       "        [-0.10675585],\n",
       "        [-0.22664936],\n",
       "        [ 0.22524944],\n",
       "        [ 0.0034604 ],\n",
       "        [-0.2117699 ],\n",
       "        [ 0.1859861 ],\n",
       "        [ 0.1449003 ],\n",
       "        [-0.16406281],\n",
       "        [ 0.14194979],\n",
       "        [ 0.01278356],\n",
       "        [-0.14877029],\n",
       "        [ 0.21267799],\n",
       "        [-0.1991086 ],\n",
       "        [ 0.15719314],\n",
       "        [-0.19291025],\n",
       "        [-0.20026726],\n",
       "        [ 0.32188037],\n",
       "        [-0.08868134],\n",
       "        [-0.2109321 ],\n",
       "        [-0.49228477],\n",
       "        [-0.18932737],\n",
       "        [ 0.11418574],\n",
       "        [-0.21995622],\n",
       "        [ 0.16001621],\n",
       "        [ 0.10566302],\n",
       "        [ 0.02449282],\n",
       "        [ 0.05171583],\n",
       "        [-0.1806639 ],\n",
       "        [ 0.11417373],\n",
       "        [-0.11254571],\n",
       "        [-0.00896444],\n",
       "        [ 0.09510498],\n",
       "        [ 0.43384406],\n",
       "        [ 0.20440531],\n",
       "        [ 0.13832115],\n",
       "        [-0.1505235 ],\n",
       "        [ 0.12874484],\n",
       "        [ 0.11733639],\n",
       "        [ 0.02001276],\n",
       "        [-0.11198148],\n",
       "        [-0.09127977],\n",
       "        [ 0.20190158],\n",
       "        [ 0.12738425],\n",
       "        [-0.1679324 ],\n",
       "        [ 0.17905667],\n",
       "        [-0.07105958],\n",
       "        [ 0.08702351],\n",
       "        [-0.1165572 ],\n",
       "        [-0.08053605],\n",
       "        [ 0.1750031 ],\n",
       "        [-0.02127952],\n",
       "        [ 0.09338125],\n",
       "        [ 0.0345463 ]], dtype=float32),\n",
       " array([0.19074899], dtype=float32)]"
      ]
     },
     "execution_count": 4,
     "metadata": {},
     "output_type": "execute_result"
    }
   ],
   "source": [
    "model.get_weights()"
   ]
  },
  {
   "cell_type": "code",
   "execution_count": 5,
   "metadata": {},
   "outputs": [],
   "source": [
    "# Step 2: Helper Functions\n",
    "# Function to decode reviews\n",
    "def decode_review(encoded_review):\n",
    "    return ' '.join([reverse_word_index.get(i - 3, '?') for i in encoded_review])\n",
    "\n",
    "# Function to preprocess user input\n",
    "def preprocess_text(text):\n",
    "    words = text.lower().split()\n",
    "    encoded_review = [word_index.get(word, 2) + 3 for word in words]\n",
    "    padded_review = sequence.pad_sequences([encoded_review], maxlen=500)\n",
    "    return padded_review"
   ]
  },
  {
   "cell_type": "code",
   "execution_count": 6,
   "metadata": {},
   "outputs": [],
   "source": [
    "### Prediction  function\n",
    "\n",
    "def predict_sentiment(review):\n",
    "    preprocessed_input=preprocess_text(review)\n",
    "\n",
    "    prediction=model.predict(preprocessed_input)\n",
    "\n",
    "    sentiment = 'Positive' if prediction[0][0] > 0.5 else 'Negative'\n",
    "    \n",
    "    return sentiment, prediction[0][0]\n",
    "\n"
   ]
  },
  {
   "cell_type": "code",
   "execution_count": 7,
   "metadata": {},
   "outputs": [
    {
     "name": "stdout",
     "output_type": "stream",
     "text": [
      "\u001b[1m1/1\u001b[0m \u001b[32m━━━━━━━━━━━━━━━━━━━━\u001b[0m\u001b[37m\u001b[0m \u001b[1m0s\u001b[0m 331ms/step\n",
      "Review: This movie was fantastic! The acting was great and the plot was thrilling.\n",
      "Sentiment: Positive\n",
      "Prediction Score: 0.5151169300079346\n"
     ]
    }
   ],
   "source": [
    "# Step 4: User Input and Prediction\n",
    "# Example review for prediction\n",
    "example_review = \"This movie was fantastic! The acting was great and the plot was thrilling.\"\n",
    "\n",
    "sentiment,score=predict_sentiment(example_review)\n",
    "\n",
    "print(f'Review: {example_review}')\n",
    "print(f'Sentiment: {sentiment}')\n",
    "print(f'Prediction Score: {score}')"
   ]
  },
  {
   "cell_type": "code",
   "execution_count": null,
   "metadata": {},
   "outputs": [],
   "source": []
  }
 ],
 "metadata": {
  "kernelspec": {
   "display_name": ".venv",
   "language": "python",
   "name": "python3"
  },
  "language_info": {
   "codemirror_mode": {
    "name": "ipython",
    "version": 3
   },
   "file_extension": ".py",
   "mimetype": "text/x-python",
   "name": "python",
   "nbconvert_exporter": "python",
   "pygments_lexer": "ipython3",
   "version": "3.12.0"
  }
 },
 "nbformat": 4,
 "nbformat_minor": 2
}
